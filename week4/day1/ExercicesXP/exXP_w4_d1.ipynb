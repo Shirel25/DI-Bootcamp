{
  "nbformat": 4,
  "nbformat_minor": 0,
  "metadata": {
    "colab": {
      "provenance": []
    },
    "kernelspec": {
      "name": "python3",
      "display_name": "Python 3"
    },
    "language_info": {
      "name": "python"
    }
  },
  "cells": [
    {
      "cell_type": "code",
      "source": [
        "import numpy as np"
      ],
      "metadata": {
        "id": "wFKXeMsCAiIS"
      },
      "execution_count": 1,
      "outputs": []
    },
    {
      "cell_type": "markdown",
      "source": [
        "🌟 **Exercise 1** : Array Creation and Manipulation"
      ],
      "metadata": {
        "id": "I3yZQBGwAP6t"
      }
    },
    {
      "cell_type": "code",
      "execution_count": 2,
      "metadata": {
        "colab": {
          "base_uri": "https://localhost:8080/"
        },
        "id": "uqS_mKcOANio",
        "outputId": "9f807c50-c999-42b4-d3fd-0bdf6a288f51"
      },
      "outputs": [
        {
          "output_type": "stream",
          "name": "stdout",
          "text": [
            "[0 1 2 3 4 5 6 7 8 9]\n"
          ]
        }
      ],
      "source": [
        "array = np.arange(10)\n",
        "print(array)"
      ]
    },
    {
      "cell_type": "markdown",
      "source": [
        "🌟 **Exercise 2** : Type Conversion and Array Operations"
      ],
      "metadata": {
        "id": "smrzLfz1Bj58"
      }
    },
    {
      "cell_type": "code",
      "source": [
        "my_list = [3.14, 2.17, 0, 1, 2]\n",
        "\n",
        "array = np.array(my_list)\n",
        "print(array)\n",
        "print(array.dtype)\n",
        "\n",
        "# Converting to integer\n",
        "array = array.astype(int)\n",
        "print(array)\n",
        "print(array.dtype)\n"
      ],
      "metadata": {
        "colab": {
          "base_uri": "https://localhost:8080/"
        },
        "id": "UyOOMNjwAs4S",
        "outputId": "e05d7e41-1a55-4043-f356-106b78325100"
      },
      "execution_count": 3,
      "outputs": [
        {
          "output_type": "stream",
          "name": "stdout",
          "text": [
            "[3.14 2.17 0.   1.   2.  ]\n",
            "float64\n",
            "[3 2 0 1 2]\n",
            "int64\n"
          ]
        }
      ]
    },
    {
      "cell_type": "markdown",
      "source": [
        "🌟 **Exercise 3** : Working with Multi-Dimensional Arrays"
      ],
      "metadata": {
        "id": "3et1ObWUC0ru"
      }
    },
    {
      "cell_type": "code",
      "source": [
        "array_3x3 = np.arange(1,10).reshape(3,3)\n",
        "print(array_3x3)\n"
      ],
      "metadata": {
        "colab": {
          "base_uri": "https://localhost:8080/"
        },
        "id": "C7glUoGkB-m_",
        "outputId": "3f98ccc2-c31e-4ba0-bbb4-7abef057e0e3"
      },
      "execution_count": 4,
      "outputs": [
        {
          "output_type": "stream",
          "name": "stdout",
          "text": [
            "[[1 2 3]\n",
            " [4 5 6]\n",
            " [7 8 9]]\n"
          ]
        }
      ]
    },
    {
      "cell_type": "markdown",
      "source": [
        "🌟 **Exercise 4** : Creating Multi-Dimensional Array with Random Numbers"
      ],
      "metadata": {
        "id": "_xwanZtRDqCj"
      }
    },
    {
      "cell_type": "code",
      "source": [
        "import random\n",
        "\n",
        "array_2D = np.array(np.random.rand(4,5))\n",
        "array_2D = np.round(array_2D, 2)\n",
        "print(array_2D)"
      ],
      "metadata": {
        "colab": {
          "base_uri": "https://localhost:8080/"
        },
        "id": "cSDPExArDdzh",
        "outputId": "043b0e12-eb62-4c15-8cc0-03e59d4191f1"
      },
      "execution_count": 5,
      "outputs": [
        {
          "output_type": "stream",
          "name": "stdout",
          "text": [
            "[[0.49 0.8  0.94 0.5  0.95]\n",
            " [0.39 0.49 0.1  0.2  0.92]\n",
            " [0.44 0.79 0.62 0.7  0.81]\n",
            " [0.93 0.89 0.18 0.27 0.14]]\n"
          ]
        }
      ]
    },
    {
      "cell_type": "markdown",
      "source": [
        "🌟 **Exercise 5** : Indexing Arrays"
      ],
      "metadata": {
        "id": "x5nekQiaGv0J"
      }
    },
    {
      "cell_type": "code",
      "source": [
        "array = np.array(np.random.randint(0, 100, size=(4,5)))\n",
        "print(array)\n",
        "\n",
        "print(array[1, :])"
      ],
      "metadata": {
        "colab": {
          "base_uri": "https://localhost:8080/"
        },
        "id": "rM9paExPECO3",
        "outputId": "9010c989-f837-484c-e99a-fc503387dbdd"
      },
      "execution_count": 6,
      "outputs": [
        {
          "output_type": "stream",
          "name": "stdout",
          "text": [
            "[[52 68 26 20  0]\n",
            " [35  1 68 57 53]\n",
            " [82 42 32 96  6]\n",
            " [75 75 51 66 20]]\n",
            "[35  1 68 57 53]\n"
          ]
        }
      ]
    },
    {
      "cell_type": "markdown",
      "source": [
        "🌟 **Exercise 6** : Reversing elements"
      ],
      "metadata": {
        "id": "kx2UKWn1IYqV"
      }
    },
    {
      "cell_type": "code",
      "source": [
        "array = np.array([9, 8, 7, 6, 5, 4, 3, 2, 1, 0])\n",
        "print(array)\n",
        "\n",
        "reversed_array = array[::-1]\n",
        "# reversed_array = np.flip(array)\n",
        "print(reversed_array)"
      ],
      "metadata": {
        "colab": {
          "base_uri": "https://localhost:8080/"
        },
        "id": "34oMHLZNGbse",
        "outputId": "462c208a-1f59-448e-eb09-dcfa8e7e4568"
      },
      "execution_count": 7,
      "outputs": [
        {
          "output_type": "stream",
          "name": "stdout",
          "text": [
            "[9 8 7 6 5 4 3 2 1 0]\n",
            "[0 1 2 3 4 5 6 7 8 9]\n"
          ]
        }
      ]
    },
    {
      "cell_type": "markdown",
      "source": [
        "🌟 **Exercise 7** : Identity Matrix"
      ],
      "metadata": {
        "id": "2L4cyXoMJYqS"
      }
    },
    {
      "cell_type": "code",
      "source": [
        "array = np.array(np.identity(4))\n",
        "print(array)"
      ],
      "metadata": {
        "colab": {
          "base_uri": "https://localhost:8080/"
        },
        "id": "OtQO4_24ItZl",
        "outputId": "9c923321-bec1-43b0-f9b2-489cdfb6df2a"
      },
      "execution_count": 8,
      "outputs": [
        {
          "output_type": "stream",
          "name": "stdout",
          "text": [
            "[[1. 0. 0. 0.]\n",
            " [0. 1. 0. 0.]\n",
            " [0. 0. 1. 0.]\n",
            " [0. 0. 0. 1.]]\n"
          ]
        }
      ]
    },
    {
      "cell_type": "markdown",
      "source": [
        "🌟 **Exercise 8** : Simple Aggregate Funcs"
      ],
      "metadata": {
        "id": "BcWQyFo7JyqH"
      }
    },
    {
      "cell_type": "code",
      "source": [
        "my_array = np.array([0, 1, 2, 3, 4, 5, 6, 7, 8, 9])\n",
        "\n",
        "print(\"Sum\", np.sum(my_array))\n",
        "print(\"Average\", np.mean(my_array))"
      ],
      "metadata": {
        "colab": {
          "base_uri": "https://localhost:8080/"
        },
        "id": "WPXvFJj2Jj4j",
        "outputId": "7912617f-4bb1-4990-c5a7-8884adafe43d"
      },
      "execution_count": 9,
      "outputs": [
        {
          "output_type": "stream",
          "name": "stdout",
          "text": [
            "Sum 45\n",
            "Average 4.5\n"
          ]
        }
      ]
    },
    {
      "cell_type": "markdown",
      "source": [
        "🌟 **Exercise 9** : Create Array and Change its Structure"
      ],
      "metadata": {
        "id": "EgSI5SgfKvfP"
      }
    },
    {
      "cell_type": "code",
      "source": [
        "my_array = np.arange(1, 21)\n",
        "my_array = my_array.reshape(4,5)\n",
        "print(my_array)"
      ],
      "metadata": {
        "colab": {
          "base_uri": "https://localhost:8080/"
        },
        "id": "UfeLsLaMKn4Q",
        "outputId": "c9bf571a-e1d4-483b-c268-12d0132c5bbb"
      },
      "execution_count": 10,
      "outputs": [
        {
          "output_type": "stream",
          "name": "stdout",
          "text": [
            "[[ 1  2  3  4  5]\n",
            " [ 6  7  8  9 10]\n",
            " [11 12 13 14 15]\n",
            " [16 17 18 19 20]]\n"
          ]
        }
      ]
    },
    {
      "cell_type": "markdown",
      "source": [
        "🌟 **Exercise 10** : Conditional Selection of Values"
      ],
      "metadata": {
        "id": "_egZOistLKXm"
      }
    },
    {
      "cell_type": "code",
      "source": [
        "array = np.arange(10)\n",
        "print(array)\n",
        "\n",
        "array_odd = array[array%2 != 0]\n",
        "print(array_odd)"
      ],
      "metadata": {
        "colab": {
          "base_uri": "https://localhost:8080/"
        },
        "id": "U1WTFvFNLChg",
        "outputId": "c0d8b13d-c675-4f1f-d6d6-8a1e53024b0a"
      },
      "execution_count": 11,
      "outputs": [
        {
          "output_type": "stream",
          "name": "stdout",
          "text": [
            "[0 1 2 3 4 5 6 7 8 9]\n",
            "[1 3 5 7 9]\n"
          ]
        }
      ]
    }
  ]
}