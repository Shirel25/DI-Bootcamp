{
  "nbformat": 4,
  "nbformat_minor": 0,
  "metadata": {
    "colab": {
      "provenance": []
    },
    "kernelspec": {
      "name": "python3",
      "display_name": "Python 3"
    },
    "language_info": {
      "name": "python"
    }
  },
  "cells": [
    {
      "cell_type": "code",
      "execution_count": 1,
      "metadata": {
        "id": "wAT8JN_J350J"
      },
      "outputs": [],
      "source": [
        "import numpy as np\n",
        "import pandas as pd"
      ]
    },
    {
      "cell_type": "markdown",
      "source": [
        "🌟 **Exercise 1** : Matrix Operations"
      ],
      "metadata": {
        "id": "zWZXNbAN4Ma2"
      }
    },
    {
      "cell_type": "code",
      "source": [
        "# Determinant\n",
        "matrix_A = np.array([[1, 2, -1],\n",
        "                     [3, 0, 1],\n",
        "                     [-5, 4, 2]])\n",
        "det_A = np.linalg.det(matrix_A)\n",
        "print(det_A)"
      ],
      "metadata": {
        "colab": {
          "base_uri": "https://localhost:8080/"
        },
        "id": "BECr7IfL4Kb3",
        "outputId": "2b2bdd05-46ad-438d-8d1b-f1403253f2b4"
      },
      "execution_count": 2,
      "outputs": [
        {
          "output_type": "stream",
          "name": "stdout",
          "text": [
            "-37.99999999999999\n"
          ]
        }
      ]
    },
    {
      "cell_type": "code",
      "source": [
        "# Inverse of a Matrix\n",
        "# A^(-1) * A = I\n",
        "inv_A = np.linalg.inv(matrix_A)\n",
        "print(inv_A)"
      ],
      "metadata": {
        "colab": {
          "base_uri": "https://localhost:8080/"
        },
        "id": "F-Ryii3K4jvV",
        "outputId": "051bacb2-6eb4-4c81-f8de-f673350e6377"
      },
      "execution_count": 3,
      "outputs": [
        {
          "output_type": "stream",
          "name": "stdout",
          "text": [
            "[[ 0.10526316  0.21052632 -0.05263158]\n",
            " [ 0.28947368  0.07894737  0.10526316]\n",
            " [-0.31578947  0.36842105  0.15789474]]\n"
          ]
        }
      ]
    },
    {
      "cell_type": "code",
      "source": [
        "identity_matrix = np.dot(matrix_A, inv_A)\n",
        "print(np.round(identity_matrix, 2))"
      ],
      "metadata": {
        "colab": {
          "base_uri": "https://localhost:8080/"
        },
        "id": "Oq98kPzb5BO8",
        "outputId": "e11b355b-a13b-4878-e448-3d09b346e736"
      },
      "execution_count": 4,
      "outputs": [
        {
          "output_type": "stream",
          "name": "stdout",
          "text": [
            "[[ 1.  0.  0.]\n",
            " [-0.  1.  0.]\n",
            " [ 0.  0.  1.]]\n"
          ]
        }
      ]
    },
    {
      "cell_type": "markdown",
      "source": [
        "🌟 **Exercise 2** : Statistical Analysis"
      ],
      "metadata": {
        "id": "L4HYyaF461br"
      }
    },
    {
      "cell_type": "code",
      "source": [
        "# Set a random seed for reproducibility\n",
        "np.random.seed(42)\n",
        "\n",
        "# Generate an array of 50 random numbers between 1 and 100\n",
        "data = np.random.randint(1, 101, size=50)\n",
        "print(data)\n",
        "print(type(data))"
      ],
      "metadata": {
        "colab": {
          "base_uri": "https://localhost:8080/"
        },
        "id": "Zwjw8irl6IUc",
        "outputId": "f70b0211-8937-41c3-b85e-445bbf10e435"
      },
      "execution_count": 5,
      "outputs": [
        {
          "output_type": "stream",
          "name": "stdout",
          "text": [
            "[ 52  93  15  72  61  21  83  87  75  75  88 100  24   3  22  53   2  88\n",
            "  30  38   2  64  60  21  33  76  58  22  89  49  91  59  42  92  60  80\n",
            "  15  62  62  47  62  51  55  64   3  51   7  21  73  39]\n",
            "<class 'numpy.ndarray'>\n"
          ]
        }
      ]
    },
    {
      "cell_type": "code",
      "source": [
        "# Calculate and print statistical measures\n",
        "print(\"Mean:\", np.mean(data))\n",
        "print(\"Median:\", np.median(data))\n",
        "print(\"Standard Deviation:\", np.std(data))\n"
      ],
      "metadata": {
        "colab": {
          "base_uri": "https://localhost:8080/"
        },
        "id": "Li4X8gMrI9kl",
        "outputId": "31104adb-e0f7-4d03-beff-af1dbae9118c"
      },
      "execution_count": 6,
      "outputs": [
        {
          "output_type": "stream",
          "name": "stdout",
          "text": [
            "Mean: 51.84\n",
            "Median: 56.5\n",
            "Standard Deviation: 27.849854577717277\n"
          ]
        }
      ]
    },
    {
      "cell_type": "markdown",
      "source": [
        "🌟 **Exercise 3** : Date Manipulation"
      ],
      "metadata": {
        "id": "gQTfAXHaKOR9"
      }
    },
    {
      "cell_type": "code",
      "source": [
        "dates = np.arange('2023-01', '2023-02', dtype='datetime64[D]')\n",
        "print(\"Original dates : \", dates)"
      ],
      "metadata": {
        "colab": {
          "base_uri": "https://localhost:8080/"
        },
        "id": "hgcLsuC7JQI7",
        "outputId": "8da60355-0ef4-46db-8308-6cf6a2b49ba3"
      },
      "execution_count": 7,
      "outputs": [
        {
          "output_type": "stream",
          "name": "stdout",
          "text": [
            "Original dates :  ['2023-01-01' '2023-01-02' '2023-01-03' '2023-01-04' '2023-01-05'\n",
            " '2023-01-06' '2023-01-07' '2023-01-08' '2023-01-09' '2023-01-10'\n",
            " '2023-01-11' '2023-01-12' '2023-01-13' '2023-01-14' '2023-01-15'\n",
            " '2023-01-16' '2023-01-17' '2023-01-18' '2023-01-19' '2023-01-20'\n",
            " '2023-01-21' '2023-01-22' '2023-01-23' '2023-01-24' '2023-01-25'\n",
            " '2023-01-26' '2023-01-27' '2023-01-28' '2023-01-29' '2023-01-30'\n",
            " '2023-01-31']\n"
          ]
        }
      ]
    },
    {
      "cell_type": "code",
      "source": [
        "formatted_dates = np.array([str(date).replace('-', '/') for date in dates])\n",
        "print(\"Formatted dates : \", formatted_dates)\n"
      ],
      "metadata": {
        "colab": {
          "base_uri": "https://localhost:8080/"
        },
        "id": "GzoNoViqJaKE",
        "outputId": "f8a449e7-2a49-4e48-f992-7e008d97edc3"
      },
      "execution_count": 8,
      "outputs": [
        {
          "output_type": "stream",
          "name": "stdout",
          "text": [
            "Formatted dates :  ['2023/01/01' '2023/01/02' '2023/01/03' '2023/01/04' '2023/01/05'\n",
            " '2023/01/06' '2023/01/07' '2023/01/08' '2023/01/09' '2023/01/10'\n",
            " '2023/01/11' '2023/01/12' '2023/01/13' '2023/01/14' '2023/01/15'\n",
            " '2023/01/16' '2023/01/17' '2023/01/18' '2023/01/19' '2023/01/20'\n",
            " '2023/01/21' '2023/01/22' '2023/01/23' '2023/01/24' '2023/01/25'\n",
            " '2023/01/26' '2023/01/27' '2023/01/28' '2023/01/29' '2023/01/30'\n",
            " '2023/01/31']\n"
          ]
        }
      ]
    },
    {
      "cell_type": "markdown",
      "source": [
        "🌟 **Exercise 4** : Data Manipulation with NumPy and Pandas"
      ],
      "metadata": {
        "id": "q67wS2_BRF0O"
      }
    },
    {
      "cell_type": "code",
      "source": [
        "np.random.seed(42)\n",
        "\n",
        "data2 = np.random.randint(1, 101, size=(5,5)) # 5x5 matrix\n",
        "df = pd.DataFrame(data2)\n",
        "print(\"original DataFrame : \\n\", df)\n",
        "\n",
        "print(\"\\ndata > 50 :\\n\", df[df>50])\n",
        "print(\"\\nslice of data :\\n\", df.iloc[4, :])\n"
      ],
      "metadata": {
        "colab": {
          "base_uri": "https://localhost:8080/"
        },
        "id": "9x72FNZWJc0r",
        "outputId": "8526a227-11b2-43e4-d681-766a12584eca"
      },
      "execution_count": 9,
      "outputs": [
        {
          "output_type": "stream",
          "name": "stdout",
          "text": [
            "original DataFrame : \n",
            "     0    1   2   3   4\n",
            "0  52   93  15  72  61\n",
            "1  21   83  87  75  75\n",
            "2  88  100  24   3  22\n",
            "3  53    2  88  30  38\n",
            "4   2   64  60  21  33\n",
            "\n",
            "data > 50 :\n",
            "       0      1     2     3     4\n",
            "0  52.0   93.0   NaN  72.0  61.0\n",
            "1   NaN   83.0  87.0  75.0  75.0\n",
            "2  88.0  100.0   NaN   NaN   NaN\n",
            "3  53.0    NaN  88.0   NaN   NaN\n",
            "4   NaN   64.0  60.0   NaN   NaN\n",
            "\n",
            "slice of data :\n",
            " 0     2\n",
            "1    64\n",
            "2    60\n",
            "3    21\n",
            "4    33\n",
            "Name: 4, dtype: int64\n"
          ]
        }
      ]
    },
    {
      "cell_type": "code",
      "source": [
        "print(\"Sum colomn : \\n\", df.sum()) # axis=0 --> column\n",
        "print(\"\\nSum row: \\n\", df.sum(axis=1)) # axis=1 --> row\n",
        "\n",
        "print(\"\\nAverage colum: \\n\", df.mean()) # axis=0 --> column\n",
        "print(\"\\nAverage row: \\n\", df.mean(axis=1)) # axis=1 --> row"
      ],
      "metadata": {
        "colab": {
          "base_uri": "https://localhost:8080/"
        },
        "id": "fRncd8klmI7P",
        "outputId": "15795e03-c031-4272-e54e-9c2ba9870a51"
      },
      "execution_count": 10,
      "outputs": [
        {
          "output_type": "stream",
          "name": "stdout",
          "text": [
            "Sum colomn : \n",
            " 0    216\n",
            "1    342\n",
            "2    274\n",
            "3    201\n",
            "4    229\n",
            "dtype: int64\n",
            "\n",
            "Sum row: \n",
            " 0    293\n",
            "1    341\n",
            "2    237\n",
            "3    211\n",
            "4    180\n",
            "dtype: int64\n",
            "\n",
            "Average colum: \n",
            " 0    43.2\n",
            "1    68.4\n",
            "2    54.8\n",
            "3    40.2\n",
            "4    45.8\n",
            "dtype: float64\n",
            "\n",
            "Average row: \n",
            " 0    58.6\n",
            "1    68.2\n",
            "2    47.4\n",
            "3    42.2\n",
            "4    36.0\n",
            "dtype: float64\n"
          ]
        }
      ]
    },
    {
      "cell_type": "markdown",
      "source": [
        "🌟 **Exercise 5** : Image Representation"
      ],
      "metadata": {
        "id": "jcrG42fVqVPW"
      }
    },
    {
      "cell_type": "markdown",
      "source": [
        "1. **Color images (RGB)**\n",
        "* **3D NumPy array** of shape (height, width, 3) where 'height' = num rows, 'weidth' = num columns ans '3' = num color channels (RGB).\n",
        "* Each pixel is represented by 3 value (RGB) ranging from 0 to 255.\n",
        " - [255, 0, 0]  → Red\n",
        " - [0, 255, 0]  → Green\n",
        " - [0, 0, 255]  → Blue\n",
        "\n",
        "2. **Grayscale images**\n",
        "* **2D NumPY array** of shape (height, width).\n",
        "* Each pixel has one value (intensity), ranging from 0 (black) to 255 (white).\n",
        "\n",
        "3. We can convert an RGB image into grayscale by taking the average or weigted sum of the RGB channels.\n"
      ],
      "metadata": {
        "id": "pdfNeceyuIcF"
      }
    },
    {
      "cell_type": "code",
      "source": [
        "from PIL import Image\n",
        "import matplotlib.pyplot as plt\n",
        "\n",
        "np.random.seed(42)\n",
        "\n",
        "# Create a 5x5 NumPy array with random grayscale values (0-255)\n",
        "gray_image_array = np.random.randint(0, 256, (5, 5), dtype=np.uint8)\n",
        "\n",
        "# Convert NumPy array to Image\n",
        "gray_image = Image.fromarray(gray_image_array)\n",
        "\n",
        "# Save the image\n",
        "gray_image.save(\"grayscale_5x5.jpg\")\n",
        "\n",
        "# Display the image\n",
        "plt.imshow(gray_image, cmap=\"gray\")  # Use 'gray' colormap\n",
        "plt.axis(\"off\")\n",
        "plt.title(\"5x5 Grayscale Image\")\n",
        "plt.show()\n",
        "\n",
        "# Print the NumPy array representation\n",
        "print(\"NumPy Array Representation of Image:\\n\", gray_image_array)"
      ],
      "metadata": {
        "colab": {
          "base_uri": "https://localhost:8080/",
          "height": 532
        },
        "id": "cuS67ZQknenq",
        "outputId": "6b14db8c-614b-41b7-c495-25ed4d9bbede"
      },
      "execution_count": 11,
      "outputs": [
        {
          "output_type": "display_data",
          "data": {
            "text/plain": [
              "<Figure size 640x480 with 1 Axes>"
            ],
            "image/png": "[encoded data removed]"
          },
          "metadata": {}
        },
        {
          "output_type": "stream",
          "name": "stdout",
          "text": [
            "NumPy Array Representation of Image:\n",
            " [[102 220 225  95 179]\n",
            " [ 61 234 203  92   3]\n",
            " [ 98 243  14 149 245]\n",
            " [ 46 106 244  99 187]\n",
            " [ 71 212 153 199 188]]\n"
          ]
        }
      ]
    },
    {
      "cell_type": "markdown",
      "source": [
        "🌟 **Exercise 6** : Basic Hypothesis Testing"
      ],
      "metadata": {
        "id": "kAzLzL9gx_2T"
      }
    },
    {
      "cell_type": "code",
      "source": [
        "np.random.seed(42)\n",
        "# Productivity scores of employees before the training program\n",
        "productivity_before = np.random.normal(loc=50, scale=10, size=30) #'loc' -> mean and 'scale' -> std\n",
        "print(\"productivity_before :\\n\", productivity_before)\n",
        "\n",
        "# Productivity scores of the same employees after the training program\n",
        "productivity_after = productivity_before + np.random.normal(loc=5, scale=3, size=30)\n",
        "print(\"productivity_after :\\n\", productivity_after)\n",
        "# Your task is to formulate a hypothesis regarding the training program's effectiveness\n",
        "# and test it using basic statistical functions in NumPy."
      ],
      "metadata": {
        "colab": {
          "base_uri": "https://localhost:8080/"
        },
        "id": "o2Dwy4_GtJ5o",
        "outputId": "955066ba-2ae9-47c6-c9bb-573d89f0d1a4"
      },
      "execution_count": 12,
      "outputs": [
        {
          "output_type": "stream",
          "name": "stdout",
          "text": [
            "productivity_before :\n",
            " [54.96714153 48.61735699 56.47688538 65.23029856 47.65846625 47.65863043\n",
            " 65.79212816 57.67434729 45.30525614 55.42560044 45.36582307 45.34270246\n",
            " 52.41962272 30.86719755 32.75082167 44.37712471 39.8716888  53.14247333\n",
            " 40.91975924 35.87696299 64.65648769 47.742237   50.67528205 35.75251814\n",
            " 44.55617275 51.1092259  38.49006423 53.75698018 43.9936131  47.0830625 ]\n",
            "productivity_after :\n",
            " [58.16202169 59.17419154 61.43639371 67.05716578 55.12610099 48.99609948\n",
            " 71.41871894 56.79533692 46.32069799 61.01618414 52.58122281 50.85680731\n",
            " 57.07267787 34.96388647 33.3152557  47.21759208 43.48977248 61.31384\n",
            " 46.95061411 35.58784252 70.6287396  51.58699015 53.64451605 42.587547\n",
            " 52.64917132 58.90306625 40.97241166 57.82934306 49.9874034  55.00969788]\n"
          ]
        }
      ]
    },
    {
      "cell_type": "code",
      "source": [
        "import seaborn as sns\n",
        "\n",
        "# Create a boxplot\n",
        "plt.figure(figsize=(10, 5))\n",
        "sns.boxplot(data=[productivity_before, productivity_after], palette=[\"red\", \"green\"])\n",
        "plt.xticks([0, 1], [\"Before Training\", \"After Training\"], fontsize=12)\n",
        "plt.ylabel(\"Productivity Score\", fontsize=12)\n",
        "plt.title(\"Productivity Before vs After Training\", fontsize=14, fontweight=\"bold\")\n",
        "plt.grid(axis=\"y\", linestyle=\"--\", alpha=0.5)\n",
        "plt.show()\n"
      ],
      "metadata": {
        "colab": {
          "base_uri": "https://localhost:8080/",
          "height": 356
        },
        "id": "e2_gsykYPSrF",
        "outputId": "dd7402c6-7054-4145-9a07-d3469df47fc2"
      },
      "execution_count": 13,
      "outputs": [
        {
          "output_type": "display_data",
          "data": {
            "text/plain": [
              "<Figure size 1000x500 with 1 Axes>"
            ],
            "image/png": "[encoded data removed]"
          },
          "metadata": {}
        }
      ]
    },
    {
      "cell_type": "code",
      "source": [
        "mean_before = np.mean(productivity_before)\n",
        "mean_after = np.mean(productivity_after)\n",
        "std_before = np.std(productivity_before, ddof=1)\n",
        "std_after = np.std(productivity_after, ddof=1)\n",
        "\n",
        "print(f\"Mean Before Training: {mean_before:.2f}\")\n",
        "print(f\"Mean After Training: {mean_after:.2f}\")\n",
        "print(f\"Standard Deviation Before: {std_before:.2f}\")\n",
        "print(f\"Standard Deviation After: {std_after:.2f}\")\n"
      ],
      "metadata": {
        "colab": {
          "base_uri": "https://localhost:8080/"
        },
        "id": "5fSUvffHM9wU",
        "outputId": "d22cae3c-dff3-4e27-b955-bdf37272bb69"
      },
      "execution_count": 14,
      "outputs": [
        {
          "output_type": "stream",
          "name": "stdout",
          "text": [
            "Mean Before Training: 48.12\n",
            "Mean After Training: 52.76\n",
            "Standard Deviation Before: 9.00\n",
            "Standard Deviation After: 9.68\n"
          ]
        }
      ]
    },
    {
      "cell_type": "markdown",
      "source": [
        "- The average productivity increased after training, suggesting the training had a positive effect.\n",
        "- The variation in productivity slightly increased after training, meaning some employees improved a lot, while others saw little or no change."
      ],
      "metadata": {
        "id": "8aT2T9FORQul"
      }
    },
    {
      "cell_type": "markdown",
      "source": [
        "🌟 **Exercise 7** : Complex Array Comparison"
      ],
      "metadata": {
        "id": "DIL_Qeg8SQzO"
      }
    },
    {
      "cell_type": "code",
      "source": [
        "array1 = np.random.randint(1, 101, size=20)\n",
        "array2 = np.random.randint(1, 101, size=20)\n",
        "print(\"array1 : \", array1)\n",
        "print(\"array2 : \", array2)\n"
      ],
      "metadata": {
        "colab": {
          "base_uri": "https://localhost:8080/"
        },
        "id": "gotydP8xOwK-",
        "outputId": "00dfe196-6952-4c16-df20-616e3848f1ba"
      },
      "execution_count": 15,
      "outputs": [
        {
          "output_type": "stream",
          "name": "stdout",
          "text": [
            "array1 :  [34 33 48 23 62 88 37 99 44 86 91 35 65 99 47 78  3  1  5 90]\n",
            "array2 :  [14 27  9 79 15 90 42 77 51 63 96 52 96  4 94 23 15 43 29 36]\n"
          ]
        }
      ]
    },
    {
      "cell_type": "code",
      "source": [
        "comparison = (array1 >= array2)\n",
        "print(\"comparison : \", comparison)"
      ],
      "metadata": {
        "colab": {
          "base_uri": "https://localhost:8080/"
        },
        "id": "3s3pqrPfTvFU",
        "outputId": "46b84296-ef4c-42c3-df4a-662d47eb1592"
      },
      "execution_count": 16,
      "outputs": [
        {
          "output_type": "stream",
          "name": "stdout",
          "text": [
            "comparison :  [ True  True  True False  True False False  True False  True False False\n",
            " False  True False  True False False False  True]\n"
          ]
        }
      ]
    },
    {
      "cell_type": "markdown",
      "source": [
        "🌟 **Exercise 8** : Time Series Data Manipulation"
      ],
      "metadata": {
        "id": "kc8YqJcuVNoa"
      }
    },
    {
      "cell_type": "code",
      "source": [
        "# Creating full year time series\n",
        "full_year = np.arange(np.datetime64('2023-01-01'), np.datetime64('2024-01-01'), dtype='datetime64[D]')\n",
        "\n",
        "# Slicing for different intervals\n",
        "jan_mar = full_year[(full_year >= np.datetime64('2023-01-01')) & (full_year < np.datetime64('2023-04-01'))]\n",
        "print(\"January to March :\\n\", jan_mar)\n",
        "\n",
        "apr_jun = full_year[(full_year >= np.datetime64('2023-04-01')) & (full_year < np.datetime64('2023-07-01'))]\n",
        "print(\"April to June :\\n\", apr_jun)\n",
        "\n",
        "jul_sept = full_year[(full_year >= np.datetime64('2023-07-01')) & (full_year < np.datetime64('2023-10-01'))]\n",
        "print(\"July to September :\\n\", jul_sept)\n",
        "\n",
        "oct_dec = full_year[(full_year >= np.datetime64('2023-10-01')) & (full_year < np.datetime64('2024-01-01'))]\n",
        "print(\"October to December :\\n\", oct_dec)\n"
      ],
      "metadata": {
        "colab": {
          "base_uri": "https://localhost:8080/"
        },
        "id": "MD7xEtIsUdFB",
        "outputId": "9ef51796-fbcd-4702-8e62-b9de97d0e389"
      },
      "execution_count": 17,
      "outputs": [
        {
          "output_type": "stream",
          "name": "stdout",
          "text": [
            "January to March :\n",
            " ['2023-01-01' '2023-01-02' '2023-01-03' '2023-01-04' '2023-01-05'\n",
            " '2023-01-06' '2023-01-07' '2023-01-08' '2023-01-09' '2023-01-10'\n",
            " '2023-01-11' '2023-01-12' '2023-01-13' '2023-01-14' '2023-01-15'\n",
            " '2023-01-16' '2023-01-17' '2023-01-18' '2023-01-19' '2023-01-20'\n",
            " '2023-01-21' '2023-01-22' '2023-01-23' '2023-01-24' '2023-01-25'\n",
            " '2023-01-26' '2023-01-27' '2023-01-28' '2023-01-29' '2023-01-30'\n",
            " '2023-01-31' '2023-02-01' '2023-02-02' '2023-02-03' '2023-02-04'\n",
            " '2023-02-05' '2023-02-06' '2023-02-07' '2023-02-08' '2023-02-09'\n",
            " '2023-02-10' '2023-02-11' '2023-02-12' '2023-02-13' '2023-02-14'\n",
            " '2023-02-15' '2023-02-16' '2023-02-17' '2023-02-18' '2023-02-19'\n",
            " '2023-02-20' '2023-02-21' '2023-02-22' '2023-02-23' '2023-02-24'\n",
            " '2023-02-25' '2023-02-26' '2023-02-27' '2023-02-28' '2023-03-01'\n",
            " '2023-03-02' '2023-03-03' '2023-03-04' '2023-03-05' '2023-03-06'\n",
            " '2023-03-07' '2023-03-08' '2023-03-09' '2023-03-10' '2023-03-11'\n",
            " '2023-03-12' '2023-03-13' '2023-03-14' '2023-03-15' '2023-03-16'\n",
            " '2023-03-17' '2023-03-18' '2023-03-19' '2023-03-20' '2023-03-21'\n",
            " '2023-03-22' '2023-03-23' '2023-03-24' '2023-03-25' '2023-03-26'\n",
            " '2023-03-27' '2023-03-28' '2023-03-29' '2023-03-30' '2023-03-31']\n",
            "April to June :\n",
            " ['2023-04-01' '2023-04-02' '2023-04-03' '2023-04-04' '2023-04-05'\n",
            " '2023-04-06' '2023-04-07' '2023-04-08' '2023-04-09' '2023-04-10'\n",
            " '2023-04-11' '2023-04-12' '2023-04-13' '2023-04-14' '2023-04-15'\n",
            " '2023-04-16' '2023-04-17' '2023-04-18' '2023-04-19' '2023-04-20'\n",
            " '2023-04-21' '2023-04-22' '2023-04-23' '2023-04-24' '2023-04-25'\n",
            " '2023-04-26' '2023-04-27' '2023-04-28' '2023-04-29' '2023-04-30'\n",
            " '2023-05-01' '2023-05-02' '2023-05-03' '2023-05-04' '2023-05-05'\n",
            " '2023-05-06' '2023-05-07' '2023-05-08' '2023-05-09' '2023-05-10'\n",
            " '2023-05-11' '2023-05-12' '2023-05-13' '2023-05-14' '2023-05-15'\n",
            " '2023-05-16' '2023-05-17' '2023-05-18' '2023-05-19' '2023-05-20'\n",
            " '2023-05-21' '2023-05-22' '2023-05-23' '2023-05-24' '2023-05-25'\n",
            " '2023-05-26' '2023-05-27' '2023-05-28' '2023-05-29' '2023-05-30'\n",
            " '2023-05-31' '2023-06-01' '2023-06-02' '2023-06-03' '2023-06-04'\n",
            " '2023-06-05' '2023-06-06' '2023-06-07' '2023-06-08' '2023-06-09'\n",
            " '2023-06-10' '2023-06-11' '2023-06-12' '2023-06-13' '2023-06-14'\n",
            " '2023-06-15' '2023-06-16' '2023-06-17' '2023-06-18' '2023-06-19'\n",
            " '2023-06-20' '2023-06-21' '2023-06-22' '2023-06-23' '2023-06-24'\n",
            " '2023-06-25' '2023-06-26' '2023-06-27' '2023-06-28' '2023-06-29'\n",
            " '2023-06-30']\n",
            "July to September :\n",
            " ['2023-07-01' '2023-07-02' '2023-07-03' '2023-07-04' '2023-07-05'\n",
            " '2023-07-06' '2023-07-07' '2023-07-08' '2023-07-09' '2023-07-10'\n",
            " '2023-07-11' '2023-07-12' '2023-07-13' '2023-07-14' '2023-07-15'\n",
            " '2023-07-16' '2023-07-17' '2023-07-18' '2023-07-19' '2023-07-20'\n",
            " '2023-07-21' '2023-07-22' '2023-07-23' '2023-07-24' '2023-07-25'\n",
            " '2023-07-26' '2023-07-27' '2023-07-28' '2023-07-29' '2023-07-30'\n",
            " '2023-07-31' '2023-08-01' '2023-08-02' '2023-08-03' '2023-08-04'\n",
            " '2023-08-05' '2023-08-06' '2023-08-07' '2023-08-08' '2023-08-09'\n",
            " '2023-08-10' '2023-08-11' '2023-08-12' '2023-08-13' '2023-08-14'\n",
            " '2023-08-15' '2023-08-16' '2023-08-17' '2023-08-18' '2023-08-19'\n",
            " '2023-08-20' '2023-08-21' '2023-08-22' '2023-08-23' '2023-08-24'\n",
            " '2023-08-25' '2023-08-26' '2023-08-27' '2023-08-28' '2023-08-29'\n",
            " '2023-08-30' '2023-08-31' '2023-09-01' '2023-09-02' '2023-09-03'\n",
            " '2023-09-04' '2023-09-05' '2023-09-06' '2023-09-07' '2023-09-08'\n",
            " '2023-09-09' '2023-09-10' '2023-09-11' '2023-09-12' '2023-09-13'\n",
            " '2023-09-14' '2023-09-15' '2023-09-16' '2023-09-17' '2023-09-18'\n",
            " '2023-09-19' '2023-09-20' '2023-09-21' '2023-09-22' '2023-09-23'\n",
            " '2023-09-24' '2023-09-25' '2023-09-26' '2023-09-27' '2023-09-28'\n",
            " '2023-09-29' '2023-09-30']\n",
            "October to December :\n",
            " ['2023-10-01' '2023-10-02' '2023-10-03' '2023-10-04' '2023-10-05'\n",
            " '2023-10-06' '2023-10-07' '2023-10-08' '2023-10-09' '2023-10-10'\n",
            " '2023-10-11' '2023-10-12' '2023-10-13' '2023-10-14' '2023-10-15'\n",
            " '2023-10-16' '2023-10-17' '2023-10-18' '2023-10-19' '2023-10-20'\n",
            " '2023-10-21' '2023-10-22' '2023-10-23' '2023-10-24' '2023-10-25'\n",
            " '2023-10-26' '2023-10-27' '2023-10-28' '2023-10-29' '2023-10-30'\n",
            " '2023-10-31' '2023-11-01' '2023-11-02' '2023-11-03' '2023-11-04'\n",
            " '2023-11-05' '2023-11-06' '2023-11-07' '2023-11-08' '2023-11-09'\n",
            " '2023-11-10' '2023-11-11' '2023-11-12' '2023-11-13' '2023-11-14'\n",
            " '2023-11-15' '2023-11-16' '2023-11-17' '2023-11-18' '2023-11-19'\n",
            " '2023-11-20' '2023-11-21' '2023-11-22' '2023-11-23' '2023-11-24'\n",
            " '2023-11-25' '2023-11-26' '2023-11-27' '2023-11-28' '2023-11-29'\n",
            " '2023-11-30' '2023-12-01' '2023-12-02' '2023-12-03' '2023-12-04'\n",
            " '2023-12-05' '2023-12-06' '2023-12-07' '2023-12-08' '2023-12-09'\n",
            " '2023-12-10' '2023-12-11' '2023-12-12' '2023-12-13' '2023-12-14'\n",
            " '2023-12-15' '2023-12-16' '2023-12-17' '2023-12-18' '2023-12-19'\n",
            " '2023-12-20' '2023-12-21' '2023-12-22' '2023-12-23' '2023-12-24'\n",
            " '2023-12-25' '2023-12-26' '2023-12-27' '2023-12-28' '2023-12-29'\n",
            " '2023-12-30' '2023-12-31']\n"
          ]
        }
      ]
    },
    {
      "cell_type": "markdown",
      "source": [
        "🌟 **Exercise 9** : Data Conversion"
      ],
      "metadata": {
        "id": "k2fe61gEZp3X"
      }
    },
    {
      "cell_type": "code",
      "source": [
        "my_array = np.array([[1, 2, 3],\n",
        "                     [4, 5, 6]])\n",
        "print(\"my_array : \\n\", my_array)\n",
        "print(type(my_array))\n",
        "\n",
        "df = pd.DataFrame(my_array, columns=['A', 'B', 'C'])\n",
        "print(\"\\ndf : \\n\", df)\n",
        "print(type(df))"
      ],
      "metadata": {
        "colab": {
          "base_uri": "https://localhost:8080/"
        },
        "id": "bod_Uk3NWPUD",
        "outputId": "3ebfccbb-0362-4663-dafe-c0f9d3e54212"
      },
      "execution_count": 18,
      "outputs": [
        {
          "output_type": "stream",
          "name": "stdout",
          "text": [
            "my_array : \n",
            " [[1 2 3]\n",
            " [4 5 6]]\n",
            "<class 'numpy.ndarray'>\n",
            "\n",
            "df : \n",
            "    A  B  C\n",
            "0  1  2  3\n",
            "1  4  5  6\n",
            "<class 'pandas.core.frame.DataFrame'>\n"
          ]
        }
      ]
    },
    {
      "cell_type": "code",
      "source": [
        "print(\"Type before : \\n\", type(df))\n",
        "print(df)\n",
        "df_to_array = df.to_numpy()\n",
        "print(\"Type after : \\n\", type(df_to_array))\n",
        "print(df_to_array)"
      ],
      "metadata": {
        "colab": {
          "base_uri": "https://localhost:8080/"
        },
        "id": "xNzLSG07Z05q",
        "outputId": "6cc4a361-dfcc-4fd4-c889-8ed4a03a2e9a"
      },
      "execution_count": 19,
      "outputs": [
        {
          "output_type": "stream",
          "name": "stdout",
          "text": [
            "Type before : \n",
            " <class 'pandas.core.frame.DataFrame'>\n",
            "   A  B  C\n",
            "0  1  2  3\n",
            "1  4  5  6\n",
            "Type after : \n",
            " <class 'numpy.ndarray'>\n",
            "[[1 2 3]\n",
            " [4 5 6]]\n"
          ]
        }
      ]
    },
    {
      "cell_type": "markdown",
      "source": [
        "🌟 **Exercise 10** : Basic Visualization"
      ],
      "metadata": {
        "id": "rOuClVyzeh5F"
      }
    },
    {
      "cell_type": "code",
      "source": [
        "dataset = np.random.randint(1, 50, size=20)\n",
        "\n",
        "plt.plot(dataset, marker='o', linestyle='-', color='purple', markersize=6)\n",
        "plt.title(\"Random Dataset\")\n",
        "plt.xlabel(\"Index\")\n",
        "plt.ylabel(\"Value\")\n",
        "plt.show()"
      ],
      "metadata": {
        "colab": {
          "base_uri": "https://localhost:8080/",
          "height": 472
        },
        "id": "6BF310EHbHh9",
        "outputId": "dc99c723-0c36-48bd-875d-3018e6dc0d87"
      },
      "execution_count": 20,
      "outputs": [
        {
          "output_type": "display_data",
          "data": {
            "text/plain": [
              "<Figure size 640x480 with 1 Axes>"
            ],
            "image/png": "[encoded data removed]"
          },
          "metadata": {}
        }
      ]
    },
    {
      "cell_type": "code",
      "source": [],
      "metadata": {
        "id": "RF9_ISCXe6YA"
      },
      "execution_count": 20,
      "outputs": []
    }
  ]
}