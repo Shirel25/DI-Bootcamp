{
  "nbformat": 4,
  "nbformat_minor": 0,
  "metadata": {
    "colab": {
      "provenance": []
    },
    "kernelspec": {
      "name": "python3",
      "display_name": "Python 3"
    },
    "language_info": {
      "name": "python"
    }
  },
  "cells": [
    {
      "cell_type": "markdown",
      "source": [
        "🌟 **Exercise 1:** Duplicate Detection and Removal"
      ],
      "metadata": {
        "id": "CbcrQD0KBrxX"
      }
    },
    {
      "cell_type": "code",
      "execution_count": 1,
      "metadata": {
        "colab": {
          "base_uri": "https://localhost:8080/"
        },
        "id": "dyX7O2H0-ule",
        "outputId": "d59bdb31-665e-40bb-cfed-201d5315a516"
      },
      "outputs": [
        {
          "output_type": "stream",
          "name": "stdout",
          "text": [
            "   PassengerId  Survived  Pclass  \\\n",
            "0            1         0       3   \n",
            "1            2         1       1   \n",
            "2            3         1       3   \n",
            "3            4         1       1   \n",
            "4            5         0       3   \n",
            "\n",
            "                                                Name     Sex   Age  SibSp  \\\n",
            "0                            Braund, Mr. Owen Harris    male  22.0      1   \n",
            "1  Cumings, Mrs. John Bradley (Florence Briggs Th...  female  38.0      1   \n",
            "2                             Heikkinen, Miss. Laina  female  26.0      0   \n",
            "3       Futrelle, Mrs. Jacques Heath (Lily May Peel)  female  35.0      1   \n",
            "4                           Allen, Mr. William Henry    male  35.0      0   \n",
            "\n",
            "   Parch            Ticket     Fare Cabin Embarked  \n",
            "0      0         A/5 21171   7.2500   NaN        S  \n",
            "1      0          PC 17599  71.2833   C85        C  \n",
            "2      0  STON/O2. 3101282   7.9250   NaN        S  \n",
            "3      0            113803  53.1000  C123        S  \n",
            "4      0            373450   8.0500   NaN        S  \n"
          ]
        }
      ],
      "source": [
        "# The files were manually downloaded and uploaded to Colab via drag-and-drop\n",
        "import pandas as pd\n",
        "\n",
        "titanic_data = pd.read_csv('train.csv')\n",
        "print(titanic_data.head())\n"
      ]
    },
    {
      "cell_type": "code",
      "source": [
        "print(f\"number of duplicate rows before treatment : {titanic_data.duplicated().sum()}\")\n",
        "print(f\"Total rows before treatment: {titanic_data.shape[0]}\")\n"
      ],
      "metadata": {
        "colab": {
          "base_uri": "https://localhost:8080/"
        },
        "id": "nt8s7ah-AQ6j",
        "outputId": "165c0ee9-830c-44df-e8f6-81971958d9d2"
      },
      "execution_count": 2,
      "outputs": [
        {
          "output_type": "stream",
          "name": "stdout",
          "text": [
            "number of duplicate rows before treatment : 0\n",
            "Total rows before treatment: 891\n"
          ]
        }
      ]
    },
    {
      "cell_type": "code",
      "source": [
        "# There are no dupplicate rows based on all columns, but let say there are\n",
        "# Remove duplicate rows\n",
        "titanic_data = titanic_data.drop_duplicates()\n",
        "\n",
        "# Verify duplicates are removed\n",
        "print(f\"number of duplicate rows after treatment: {titanic_data.duplicated().sum()}\")\n",
        "print(f\"Total rows after treatment: {titanic_data.shape[0]}\")\n"
      ],
      "metadata": {
        "colab": {
          "base_uri": "https://localhost:8080/"
        },
        "id": "a01ElXd_Avg8",
        "outputId": "7b4be7cf-571a-47b5-af82-f24a48e3b596"
      },
      "execution_count": 3,
      "outputs": [
        {
          "output_type": "stream",
          "name": "stdout",
          "text": [
            "number of duplicate rows after treatment: 0\n",
            "Total rows after treatment: 891\n"
          ]
        }
      ]
    },
    {
      "cell_type": "markdown",
      "source": [
        "🌟 **Exercise 2:** Handling Missing Values"
      ],
      "metadata": {
        "id": "BCTF_WnaB4ot"
      }
    },
    {
      "cell_type": "code",
      "source": [
        "#Check for missing values in titanic_data\n",
        "missing_data = titanic_data.isnull()\n",
        "print(missing_data.head())\n",
        "# True is the value is missing, False if not\n",
        "\n",
        "print(\"======================================================\")\n",
        "# Count missing values in each column\n",
        "missing_counts = titanic_data.isnull().sum()\n",
        "print(\"Number of missing values in each column :\")\n",
        "print(missing_counts)"
      ],
      "metadata": {
        "colab": {
          "base_uri": "https://localhost:8080/"
        },
        "id": "CPS9FfJaBPTT",
        "outputId": "5db1d0ba-ff68-431c-ceed-92b2368b35c8"
      },
      "execution_count": 4,
      "outputs": [
        {
          "output_type": "stream",
          "name": "stdout",
          "text": [
            "   PassengerId  Survived  Pclass   Name    Sex    Age  SibSp  Parch  Ticket  \\\n",
            "0        False     False   False  False  False  False  False  False   False   \n",
            "1        False     False   False  False  False  False  False  False   False   \n",
            "2        False     False   False  False  False  False  False  False   False   \n",
            "3        False     False   False  False  False  False  False  False   False   \n",
            "4        False     False   False  False  False  False  False  False   False   \n",
            "\n",
            "    Fare  Cabin  Embarked  \n",
            "0  False   True     False  \n",
            "1  False  False     False  \n",
            "2  False   True     False  \n",
            "3  False  False     False  \n",
            "4  False   True     False  \n",
            "======================================================\n",
            "Number of missing values in each column :\n",
            "PassengerId      0\n",
            "Survived         0\n",
            "Pclass           0\n",
            "Name             0\n",
            "Sex              0\n",
            "Age            177\n",
            "SibSp            0\n",
            "Parch            0\n",
            "Ticket           0\n",
            "Fare             0\n",
            "Cabin          687\n",
            "Embarked         2\n",
            "dtype: int64\n"
          ]
        }
      ]
    },
    {
      "cell_type": "markdown",
      "source": [
        "We can see there are 3 colums where some of the values are missing.\n",
        "Let's treat each of them."
      ],
      "metadata": {
        "id": "LIOGgSEeHvNE"
      }
    },
    {
      "cell_type": "code",
      "source": [
        "total_rows = titanic_data.shape[0]\n",
        "print(f\"Total rows in the dataset: {total_rows}\")"
      ],
      "metadata": {
        "colab": {
          "base_uri": "https://localhost:8080/"
        },
        "id": "A4hcd8uqEqpN",
        "outputId": "dbd98619-ea45-4eb5-9c3a-1e7ce2f0f255"
      },
      "execution_count": 5,
      "outputs": [
        {
          "output_type": "stream",
          "name": "stdout",
          "text": [
            "Total rows in the dataset: 891\n"
          ]
        }
      ]
    },
    {
      "cell_type": "markdown",
      "source": [
        "**First column :** *Age*\n",
        "\n",
        "177 values missing out of 891"
      ],
      "metadata": {
        "id": "buJoWTKnH5PB"
      }
    },
    {
      "cell_type": "code",
      "source": [
        "# We can do an imputation by filling the missing values with the mean of the column\n",
        "\n",
        "titanic_data[\"Age\"] = titanic_data[\"Age\"].fillna(titanic_data[\"Age\"].mean())\n",
        "print(titanic_data.head())\n",
        "\n",
        "print(\"======================================================\")\n",
        "print(\"Number of missing values in 'Age' column after :\")\n",
        "print(titanic_data[\"Age\"].isnull().sum())"
      ],
      "metadata": {
        "colab": {
          "base_uri": "https://localhost:8080/"
        },
        "id": "k80_aodtHYVA",
        "outputId": "45950654-3707-4823-ef94-39ef2a054ca1"
      },
      "execution_count": 6,
      "outputs": [
        {
          "output_type": "stream",
          "name": "stdout",
          "text": [
            "   PassengerId  Survived  Pclass  \\\n",
            "0            1         0       3   \n",
            "1            2         1       1   \n",
            "2            3         1       3   \n",
            "3            4         1       1   \n",
            "4            5         0       3   \n",
            "\n",
            "                                                Name     Sex   Age  SibSp  \\\n",
            "0                            Braund, Mr. Owen Harris    male  22.0      1   \n",
            "1  Cumings, Mrs. John Bradley (Florence Briggs Th...  female  38.0      1   \n",
            "2                             Heikkinen, Miss. Laina  female  26.0      0   \n",
            "3       Futrelle, Mrs. Jacques Heath (Lily May Peel)  female  35.0      1   \n",
            "4                           Allen, Mr. William Henry    male  35.0      0   \n",
            "\n",
            "   Parch            Ticket     Fare Cabin Embarked  \n",
            "0      0         A/5 21171   7.2500   NaN        S  \n",
            "1      0          PC 17599  71.2833   C85        C  \n",
            "2      0  STON/O2. 3101282   7.9250   NaN        S  \n",
            "3      0            113803  53.1000  C123        S  \n",
            "4      0            373450   8.0500   NaN        S  \n",
            "======================================================\n",
            "Number of missing values in 'Age' column after :\n",
            "0\n"
          ]
        }
      ]
    },
    {
      "cell_type": "markdown",
      "source": [
        "**Second column :** *Cabin*\n",
        "\n",
        "682 missing values out of 891"
      ],
      "metadata": {
        "id": "86_vfrd0KHd2"
      }
    },
    {
      "cell_type": "code",
      "source": [
        "# There are too much missing values for this column, and the information\n",
        "# we can extract of it is not really important so we can delete this column\n",
        "print(\"Is there a 'Cabin' column ?\", \"Cabin\" in titanic_data.columns)\n",
        "\n",
        "titanic_data = titanic_data.drop(\"Cabin\", axis=1)\n",
        "# print(titanic_data.head())\n",
        "print(\"After the dropping :\")\n",
        "print(\"Is there a 'Cabin' column ?\", \"Cabin\" in titanic_data.columns)\n"
      ],
      "metadata": {
        "colab": {
          "base_uri": "https://localhost:8080/"
        },
        "id": "p1NyyceiIy6R",
        "outputId": "07d116fa-150a-424c-c977-cfa03657e068"
      },
      "execution_count": 7,
      "outputs": [
        {
          "output_type": "stream",
          "name": "stdout",
          "text": [
            "Is there a 'Cabin' column ? True\n",
            "After the dropping :\n",
            "Is there a 'Cabin' column ? False\n"
          ]
        }
      ]
    },
    {
      "cell_type": "markdown",
      "source": [
        "**Third column :** *Embarqued*\n",
        "\n",
        "2 missing values out of 891"
      ],
      "metadata": {
        "id": "yRcA-gfIL4Iu"
      }
    },
    {
      "cell_type": "code",
      "source": [
        "# There are only 2 missing values, so we can fill them with the most frequent value\n",
        "most_frequent_embarked = titanic_data[\"Embarked\"].mode()[0]\n",
        "titanic_data[\"Embarked\"] = titanic_data[\"Embarked\"].fillna(most_frequent_embarked)\n",
        "\n",
        "# print(titanic_data.head())\n",
        "\n",
        "print(\"======================================================\")\n",
        "print(\"Number of missing values in 'Embarqued' column after :\")\n",
        "print(titanic_data[\"Embarked\"].isnull().sum())\n"
      ],
      "metadata": {
        "colab": {
          "base_uri": "https://localhost:8080/"
        },
        "id": "2EkHo-6tLHC1",
        "outputId": "794187d8-196b-4b22-96dd-a61cb987492b"
      },
      "execution_count": 8,
      "outputs": [
        {
          "output_type": "stream",
          "name": "stdout",
          "text": [
            "======================================================\n",
            "Number of missing values in 'Embarqued' column after :\n",
            "0\n"
          ]
        }
      ]
    },
    {
      "cell_type": "markdown",
      "source": [
        "🌟 **Exercise 3:** Feature Engineering"
      ],
      "metadata": {
        "id": "ox1yK-MbPcm-"
      }
    },
    {
      "cell_type": "markdown",
      "source": [
        "* Create new features, such as Family Size\n",
        "from SibSp and Parch, and Title extracted from the Name column.\n",
        "\n",
        "\n"
      ],
      "metadata": {
        "id": "C5doUtrMYA65"
      }
    },
    {
      "cell_type": "code",
      "source": [
        "# Create 'FamilySize'\n",
        "\n",
        "titanic_data[\"FamilySize\"] = titanic_data['SibSp'] + titanic_data['Parch'] + 1\n",
        "# +1 to include the person herself\n",
        "print(titanic_data.head())"
      ],
      "metadata": {
        "colab": {
          "base_uri": "https://localhost:8080/"
        },
        "id": "sKzlAg2RMyYX",
        "outputId": "50b7e21c-fea6-4219-e0b1-a88f3b4c75ff"
      },
      "execution_count": 9,
      "outputs": [
        {
          "output_type": "stream",
          "name": "stdout",
          "text": [
            "   PassengerId  Survived  Pclass  \\\n",
            "0            1         0       3   \n",
            "1            2         1       1   \n",
            "2            3         1       3   \n",
            "3            4         1       1   \n",
            "4            5         0       3   \n",
            "\n",
            "                                                Name     Sex   Age  SibSp  \\\n",
            "0                            Braund, Mr. Owen Harris    male  22.0      1   \n",
            "1  Cumings, Mrs. John Bradley (Florence Briggs Th...  female  38.0      1   \n",
            "2                             Heikkinen, Miss. Laina  female  26.0      0   \n",
            "3       Futrelle, Mrs. Jacques Heath (Lily May Peel)  female  35.0      1   \n",
            "4                           Allen, Mr. William Henry    male  35.0      0   \n",
            "\n",
            "   Parch            Ticket     Fare Embarked  FamilySize  \n",
            "0      0         A/5 21171   7.2500        S           2  \n",
            "1      0          PC 17599  71.2833        C           2  \n",
            "2      0  STON/O2. 3101282   7.9250        S           1  \n",
            "3      0            113803  53.1000        S           2  \n",
            "4      0            373450   8.0500        S           1  \n"
          ]
        }
      ]
    },
    {
      "cell_type": "code",
      "source": [
        "# Extract title from 'Name'\n",
        "\n",
        "titanic_data[\"Title\"] = titanic_data[\"Name\"].str.extract(\" ([A-Za-z]+)\\.\", expand=False)\n",
        "print(titanic_data[\"Title\"].unique())\n",
        "# print(titanic_data.head())\n"
      ],
      "metadata": {
        "colab": {
          "base_uri": "https://localhost:8080/"
        },
        "id": "4tJN6H37Qp20",
        "outputId": "014e2d9f-1da8-47a9-beb4-f12d8456ce05"
      },
      "execution_count": 10,
      "outputs": [
        {
          "output_type": "stream",
          "name": "stdout",
          "text": [
            "['Mr' 'Mrs' 'Miss' 'Master' 'Don' 'Rev' 'Dr' 'Mme' 'Ms' 'Major' 'Lady'\n",
            " 'Sir' 'Mlle' 'Col' 'Capt' 'Countess' 'Jonkheer']\n"
          ]
        }
      ]
    },
    {
      "cell_type": "markdown",
      "source": [
        "* Convert categorical variables into numerical form using techniques like one-hot encoding or label encoding.\n",
        "\n"
      ],
      "metadata": {
        "id": "UaOkhmnUYPK-"
      }
    },
    {
      "cell_type": "code",
      "source": [
        "# The column 'Sex' and 'Embarqued' are categorical variables\n",
        "# 'Sex' : a person can be 'male' or 'female'\n",
        "# 'Embarqued' : there are 3 categories of boarding {S, C, Q}\n",
        "\n",
        "# One-Hot Encoding : pd.get_dummies()\n",
        "titanic_data = pd.get_dummies(titanic_data, columns=[\"Sex\", \"Embarked\"], drop_first=True)\n",
        "# drop_first=True because if a person isn't 'male', she is 'female'\n",
        "\n",
        "print(titanic_data.head())\n"
      ],
      "metadata": {
        "colab": {
          "base_uri": "https://localhost:8080/"
        },
        "id": "lxlpDkLZRWVM",
        "outputId": "4912aebe-0a46-47d4-aa24-6f6be23ba6b4"
      },
      "execution_count": 11,
      "outputs": [
        {
          "output_type": "stream",
          "name": "stdout",
          "text": [
            "   PassengerId  Survived  Pclass  \\\n",
            "0            1         0       3   \n",
            "1            2         1       1   \n",
            "2            3         1       3   \n",
            "3            4         1       1   \n",
            "4            5         0       3   \n",
            "\n",
            "                                                Name   Age  SibSp  Parch  \\\n",
            "0                            Braund, Mr. Owen Harris  22.0      1      0   \n",
            "1  Cumings, Mrs. John Bradley (Florence Briggs Th...  38.0      1      0   \n",
            "2                             Heikkinen, Miss. Laina  26.0      0      0   \n",
            "3       Futrelle, Mrs. Jacques Heath (Lily May Peel)  35.0      1      0   \n",
            "4                           Allen, Mr. William Henry  35.0      0      0   \n",
            "\n",
            "             Ticket     Fare  FamilySize Title  Sex_male  Embarked_Q  \\\n",
            "0         A/5 21171   7.2500           2    Mr      True       False   \n",
            "1          PC 17599  71.2833           2   Mrs     False       False   \n",
            "2  STON/O2. 3101282   7.9250           1  Miss     False       False   \n",
            "3            113803  53.1000           2   Mrs     False       False   \n",
            "4            373450   8.0500           1    Mr      True       False   \n",
            "\n",
            "   Embarked_S  \n",
            "0        True  \n",
            "1       False  \n",
            "2        True  \n",
            "3        True  \n",
            "4        True  \n"
          ]
        }
      ]
    },
    {
      "cell_type": "code",
      "source": [
        "from sklearn.preprocessing import LabelEncoder\n",
        "\n",
        "#LabelEncoder() converts text categories to integers\n",
        "encoder = LabelEncoder()\n",
        "titanic_data[\"Title\"] = encoder.fit_transform(titanic_data[\"Title\"])\n"
      ],
      "metadata": {
        "id": "RmqtCuMNV7vo"
      },
      "execution_count": 12,
      "outputs": []
    },
    {
      "cell_type": "code",
      "source": [
        "print(\"Here are the corresponding transformation :\")\n",
        "print(dict(zip(encoder.classes_, encoder.transform(encoder.classes_))))\n",
        "\n",
        "print(\"======================================================\")\n",
        "print(titanic_data.head())\n"
      ],
      "metadata": {
        "colab": {
          "base_uri": "https://localhost:8080/"
        },
        "id": "QkoQg1bYWX9d",
        "outputId": "62b341b8-d0d2-48e6-900b-2286f54c3b4d"
      },
      "execution_count": 13,
      "outputs": [
        {
          "output_type": "stream",
          "name": "stdout",
          "text": [
            "Here are the corresponding transformation :\n",
            "{'Capt': 0, 'Col': 1, 'Countess': 2, 'Don': 3, 'Dr': 4, 'Jonkheer': 5, 'Lady': 6, 'Major': 7, 'Master': 8, 'Miss': 9, 'Mlle': 10, 'Mme': 11, 'Mr': 12, 'Mrs': 13, 'Ms': 14, 'Rev': 15, 'Sir': 16}\n",
            "======================================================\n",
            "   PassengerId  Survived  Pclass  \\\n",
            "0            1         0       3   \n",
            "1            2         1       1   \n",
            "2            3         1       3   \n",
            "3            4         1       1   \n",
            "4            5         0       3   \n",
            "\n",
            "                                                Name   Age  SibSp  Parch  \\\n",
            "0                            Braund, Mr. Owen Harris  22.0      1      0   \n",
            "1  Cumings, Mrs. John Bradley (Florence Briggs Th...  38.0      1      0   \n",
            "2                             Heikkinen, Miss. Laina  26.0      0      0   \n",
            "3       Futrelle, Mrs. Jacques Heath (Lily May Peel)  35.0      1      0   \n",
            "4                           Allen, Mr. William Henry  35.0      0      0   \n",
            "\n",
            "             Ticket     Fare  FamilySize  Title  Sex_male  Embarked_Q  \\\n",
            "0         A/5 21171   7.2500           2     12      True       False   \n",
            "1          PC 17599  71.2833           2     13     False       False   \n",
            "2  STON/O2. 3101282   7.9250           1      9     False       False   \n",
            "3            113803  53.1000           2     13     False       False   \n",
            "4            373450   8.0500           1     12      True       False   \n",
            "\n",
            "   Embarked_S  \n",
            "0        True  \n",
            "1       False  \n",
            "2        True  \n",
            "3        True  \n",
            "4        True  \n"
          ]
        }
      ]
    },
    {
      "cell_type": "code",
      "source": [
        "# Saving the data before normalize them for further\n",
        "titanic_data_before_scaling = titanic_data.copy()\n",
        "print(titanic_data_before_scaling)"
      ],
      "metadata": {
        "colab": {
          "base_uri": "https://localhost:8080/"
        },
        "id": "M2Q7m8nSyfwR",
        "outputId": "a5b30e30-32b6-4240-c553-5f0486502adf"
      },
      "execution_count": 14,
      "outputs": [
        {
          "output_type": "stream",
          "name": "stdout",
          "text": [
            "     PassengerId  Survived  Pclass  \\\n",
            "0              1         0       3   \n",
            "1              2         1       1   \n",
            "2              3         1       3   \n",
            "3              4         1       1   \n",
            "4              5         0       3   \n",
            "..           ...       ...     ...   \n",
            "886          887         0       2   \n",
            "887          888         1       1   \n",
            "888          889         0       3   \n",
            "889          890         1       1   \n",
            "890          891         0       3   \n",
            "\n",
            "                                                  Name        Age  SibSp  \\\n",
            "0                              Braund, Mr. Owen Harris  22.000000      1   \n",
            "1    Cumings, Mrs. John Bradley (Florence Briggs Th...  38.000000      1   \n",
            "2                               Heikkinen, Miss. Laina  26.000000      0   \n",
            "3         Futrelle, Mrs. Jacques Heath (Lily May Peel)  35.000000      1   \n",
            "4                             Allen, Mr. William Henry  35.000000      0   \n",
            "..                                                 ...        ...    ...   \n",
            "886                              Montvila, Rev. Juozas  27.000000      0   \n",
            "887                       Graham, Miss. Margaret Edith  19.000000      0   \n",
            "888           Johnston, Miss. Catherine Helen \"Carrie\"  29.699118      1   \n",
            "889                              Behr, Mr. Karl Howell  26.000000      0   \n",
            "890                                Dooley, Mr. Patrick  32.000000      0   \n",
            "\n",
            "     Parch            Ticket     Fare  FamilySize  Title  Sex_male  \\\n",
            "0        0         A/5 21171   7.2500           2     12      True   \n",
            "1        0          PC 17599  71.2833           2     13     False   \n",
            "2        0  STON/O2. 3101282   7.9250           1      9     False   \n",
            "3        0            113803  53.1000           2     13     False   \n",
            "4        0            373450   8.0500           1     12      True   \n",
            "..     ...               ...      ...         ...    ...       ...   \n",
            "886      0            211536  13.0000           1     15      True   \n",
            "887      0            112053  30.0000           1      9     False   \n",
            "888      2        W./C. 6607  23.4500           4      9     False   \n",
            "889      0            111369  30.0000           1     12      True   \n",
            "890      0            370376   7.7500           1     12      True   \n",
            "\n",
            "     Embarked_Q  Embarked_S  \n",
            "0         False        True  \n",
            "1         False       False  \n",
            "2         False        True  \n",
            "3         False        True  \n",
            "4         False        True  \n",
            "..          ...         ...  \n",
            "886       False        True  \n",
            "887       False        True  \n",
            "888       False        True  \n",
            "889       False       False  \n",
            "890        True       False  \n",
            "\n",
            "[891 rows x 14 columns]\n"
          ]
        }
      ]
    },
    {
      "cell_type": "markdown",
      "source": [
        "* Normalize or standardize numerical features if required."
      ],
      "metadata": {
        "id": "H6GCyUOtYYEi"
      }
    },
    {
      "cell_type": "code",
      "source": [
        "from sklearn.preprocessing import MinMaxScaler\n",
        "\n",
        "scaler = MinMaxScaler()\n",
        "num_features = [\"Age\", \"Fare\", \"FamilySize\"]  # List of colonnes to normalise\n",
        "titanic_data[num_features] = scaler.fit_transform(titanic_data[num_features])\n",
        "\n",
        "print(titanic_data.head())"
      ],
      "metadata": {
        "colab": {
          "base_uri": "https://localhost:8080/"
        },
        "id": "ObOGv8MYWbX5",
        "outputId": "0804b92c-af85-4a96-d109-c1edaf714c8a"
      },
      "execution_count": 15,
      "outputs": [
        {
          "output_type": "stream",
          "name": "stdout",
          "text": [
            "   PassengerId  Survived  Pclass  \\\n",
            "0            1         0       3   \n",
            "1            2         1       1   \n",
            "2            3         1       3   \n",
            "3            4         1       1   \n",
            "4            5         0       3   \n",
            "\n",
            "                                                Name       Age  SibSp  Parch  \\\n",
            "0                            Braund, Mr. Owen Harris  0.271174      1      0   \n",
            "1  Cumings, Mrs. John Bradley (Florence Briggs Th...  0.472229      1      0   \n",
            "2                             Heikkinen, Miss. Laina  0.321438      0      0   \n",
            "3       Futrelle, Mrs. Jacques Heath (Lily May Peel)  0.434531      1      0   \n",
            "4                           Allen, Mr. William Henry  0.434531      0      0   \n",
            "\n",
            "             Ticket      Fare  FamilySize  Title  Sex_male  Embarked_Q  \\\n",
            "0         A/5 21171  0.014151         0.1     12      True       False   \n",
            "1          PC 17599  0.139136         0.1     13     False       False   \n",
            "2  STON/O2. 3101282  0.015469         0.0      9     False       False   \n",
            "3            113803  0.103644         0.1     13     False       False   \n",
            "4            373450  0.015713         0.0     12      True       False   \n",
            "\n",
            "   Embarked_S  \n",
            "0        True  \n",
            "1       False  \n",
            "2        True  \n",
            "3        True  \n",
            "4        True  \n"
          ]
        }
      ]
    },
    {
      "cell_type": "markdown",
      "source": [
        "🌟 **Exercise 4:** Outlier Detection and Handling"
      ],
      "metadata": {
        "id": "ggWkF9ehZWtS"
      }
    },
    {
      "cell_type": "code",
      "source": [
        "print(f\"Total rows before treatment: {titanic_data.shape[0]}\")\n",
        "\n",
        "def remove_outliers(df, column):\n",
        "    \"\"\"Delete outliers from a column using l'IQR\"\"\"\n",
        "    Q1 = df[column].quantile(0.25)\n",
        "    Q3 = df[column].quantile(0.75)\n",
        "    IQR = Q3 - Q1\n",
        "    lower_bound = Q1 - 1.5 * IQR\n",
        "    upper_bound = Q3 + 1.5 * IQR\n",
        "    df_filtered = df[(df[column] >= lower_bound) & (df[column] <= upper_bound)]\n",
        "\n",
        "    print(f\"Total rows before removing {column} outliers: {df.shape[0]}\")\n",
        "    print(f\"Total rows after removing {column} outliers: {df_filtered.shape[0]}\")\n",
        "\n",
        "    return df_filtered\n",
        "\n",
        "# if we don't want to loss the data, we could replace the outliers with\n",
        "# lower_bound and upper_bound instead of deleting them\n",
        "\n",
        "#     df[column] = df[column].clip(lower=lower_bound, upper=upper_bound)\n",
        "#     return df\n"
      ],
      "metadata": {
        "colab": {
          "base_uri": "https://localhost:8080/"
        },
        "id": "uavI8DwbcRnD",
        "outputId": "c0cd9652-1b31-46be-e95b-7aba095759ae"
      },
      "execution_count": 16,
      "outputs": [
        {
          "output_type": "stream",
          "name": "stdout",
          "text": [
            "Total rows before treatment: 891\n"
          ]
        }
      ]
    },
    {
      "cell_type": "code",
      "source": [
        "titanic_data = remove_outliers(titanic_data, \"Fare\")\n",
        "print(\"======================================================\")\n",
        "titanic_data = remove_outliers(titanic_data, \"Age\")\n"
      ],
      "metadata": {
        "colab": {
          "base_uri": "https://localhost:8080/"
        },
        "id": "-7Lz8WIsboVw",
        "outputId": "c92c823a-edbf-4a40-9a01-cc4b1c34a483"
      },
      "execution_count": 17,
      "outputs": [
        {
          "output_type": "stream",
          "name": "stdout",
          "text": [
            "Total rows before removing Fare outliers: 891\n",
            "Total rows after removing Fare outliers: 775\n",
            "======================================================\n",
            "Total rows before removing Age outliers: 775\n",
            "Total rows after removing Age outliers: 708\n"
          ]
        }
      ]
    },
    {
      "cell_type": "markdown",
      "source": [
        "🌟 Exercise 5: Data Standardization and Normalization"
      ],
      "metadata": {
        "id": "mtEPKtnSduxE"
      }
    },
    {
      "cell_type": "markdown",
      "source": [
        "* Assess the scale and distribution of numerical columns in the dataset."
      ],
      "metadata": {
        "id": "Ruf1DCKJhKQC"
      }
    },
    {
      "cell_type": "code",
      "source": [
        "import matplotlib.pyplot as plt\n",
        "\n",
        "print(titanic_data.describe())\n",
        "\n",
        "titanic_data.hist(figsize=(10, 6), bins=30)\n",
        "plt.show()\n"
      ],
      "metadata": {
        "colab": {
          "base_uri": "https://localhost:8080/",
          "height": 776
        },
        "id": "R4_6QBxGb0tP",
        "outputId": "7271a919-9a18-45c4-926d-01afa2428b98"
      },
      "execution_count": 18,
      "outputs": [
        {
          "output_type": "stream",
          "name": "stdout",
          "text": [
            "       PassengerId    Survived      Pclass         Age       SibSp  \\\n",
            "count   708.000000  708.000000  708.000000  708.000000  708.000000   \n",
            "mean    449.714689    0.331921    2.518362    0.352112    0.399718   \n",
            "std     260.208426    0.471236    0.714332    0.119765    0.840859   \n",
            "min       1.000000    0.000000    1.000000    0.044986    0.000000   \n",
            "25%     219.500000    0.000000    2.000000    0.271174    0.000000   \n",
            "50%     450.500000    0.000000    3.000000    0.367921    0.000000   \n",
            "75%     676.250000    1.000000    3.000000    0.396833    1.000000   \n",
            "max     891.000000    1.000000    3.000000    0.648153    5.000000   \n",
            "\n",
            "            Parch        Fare  FamilySize       Title  \n",
            "count  708.000000  708.000000  708.000000  708.000000  \n",
            "mean     0.313559    0.033445    0.071328   11.398305  \n",
            "std      0.782038    0.026183    0.135120    1.617478  \n",
            "min      0.000000    0.000000    0.000000    3.000000  \n",
            "25%      0.000000    0.015379    0.000000   12.000000  \n",
            "50%      0.000000    0.021942    0.000000   12.000000  \n",
            "75%      0.000000    0.049767    0.100000   12.000000  \n",
            "max      6.000000    0.126872    0.700000   16.000000  \n"
          ]
        },
        {
          "output_type": "display_data",
          "data": {
            "text/plain": [
              "<Figure size 1000x600 with 9 Axes>"
            ],
            "image/png": "[encoded data removed]"
          },
          "metadata": {}
        }
      ]
    },
    {
      "cell_type": "markdown",
      "source": [
        "* Apply standardization to features with a wide range of values."
      ],
      "metadata": {
        "id": "Y9VFl0wOhNWb"
      }
    },
    {
      "cell_type": "code",
      "source": [
        "# According to 'titanic_data.describe()', the 'std' of numerical variables,\n",
        "# none of the columns 'Fare', 'Age', 'FamilySize' have high dispersion (std >5)\n",
        "# Standardizing these columns would not significantly change their distribution,\n",
        "# as they are already well-compressed.\n",
        "\n",
        "# The other columns are categories and should not be normalized\n",
        "\n"
      ],
      "metadata": {
        "id": "5wQN07vTg8U5"
      },
      "execution_count": 19,
      "outputs": []
    },
    {
      "cell_type": "markdown",
      "source": [
        "* Normalize data that requires a bounded range, like [0, 1]."
      ],
      "metadata": {
        "id": "R8QLIp_ZmrYT"
      }
    },
    {
      "cell_type": "code",
      "source": [
        "# Fare, Age, and FamilySize have already been normalized to the [0,1] range\n",
        "# in exercise 3.\n",
        "# No need to apply 'MinMaxScaler' again."
      ],
      "metadata": {
        "id": "ZgCU9rRZmgZq"
      },
      "execution_count": 20,
      "outputs": []
    },
    {
      "cell_type": "markdown",
      "source": [
        "🌟 **Exercise 6:** Feature Encoding"
      ],
      "metadata": {
        "id": "Dyzu9EHZn2Cs"
      }
    },
    {
      "cell_type": "markdown",
      "source": [
        "Categorical variables (Sex, Embarked, and Title) were identified and encoded in a previous step (exercise 3).\n",
        "\n",
        "* One-hot encoding (pd.get_dummies()) was applied to Sex and Embarked since they are nominal variables.\n",
        "* Label encoding (LabelEncoder) was applied to Title since it represents ordinal categories.\n",
        "* Pclass was not encoded because it is already numerical and represents an ordinal category.\n",
        "\n",
        "These transformations were integrated into the dataset, and the encoded columns are now used for further analysis."
      ],
      "metadata": {
        "id": "9bPZ1ebRsGQ7"
      }
    },
    {
      "cell_type": "markdown",
      "source": [
        "🌟**Exercise 7:** Data Transformation for Age Feature"
      ],
      "metadata": {
        "id": "iti5ccOdshFF"
      }
    },
    {
      "cell_type": "markdown",
      "source": [
        "* Create age groups (bins) from the Age column to categorize passengers into different age categories."
      ],
      "metadata": {
        "id": "42hiOltBsteV"
      }
    },
    {
      "cell_type": "code",
      "source": [
        "# Define age ranges and group labels\n",
        "bins = [0, 12, 18, 35, 60, 100]\n",
        "labels = [\"Child\", \"Teenager\", \"Young Adult\", \"Adult\", \"Senior\"]  # group names\n",
        "\n",
        "\n",
        "titanic_data[\"Age\"] = titanic_data_before_scaling[\"Age\"]\n",
        "\n",
        "# Apply binning on 'Age'\n",
        "titanic_data[\"AgeGroup\"] = pd.cut(titanic_data[\"Age\"], bins=bins, labels=labels, right=False)\n",
        "\n",
        "# Check the distribution of age groups\n",
        "print(titanic_data[\"AgeGroup\"].value_counts())"
      ],
      "metadata": {
        "colab": {
          "base_uri": "https://localhost:8080/"
        },
        "id": "F_Od9wQan0mm",
        "outputId": "60d73ad7-7ed7-44f1-ead9-a38976d0119f"
      },
      "execution_count": 21,
      "outputs": [
        {
          "output_type": "stream",
          "name": "stdout",
          "text": [
            "AgeGroup\n",
            "Young Adult    487\n",
            "Adult          145\n",
            "Teenager        40\n",
            "Child           36\n",
            "Senior           0\n",
            "Name: count, dtype: int64\n"
          ]
        }
      ]
    },
    {
      "cell_type": "markdown",
      "source": [
        "* Apply one-hot encoding to the age groups to convert them into binary features."
      ],
      "metadata": {
        "id": "r3tyn6sauxk1"
      }
    },
    {
      "cell_type": "code",
      "source": [
        "titanic_data = pd.get_dummies(titanic_data, columns=[\"AgeGroup\"], drop_first=True)\n",
        "\n",
        "print(titanic_data.head())\n"
      ],
      "metadata": {
        "colab": {
          "base_uri": "https://localhost:8080/"
        },
        "id": "dDyNBuObtiov",
        "outputId": "a0942435-c5b1-4399-df3e-f789b18754f4"
      },
      "execution_count": 22,
      "outputs": [
        {
          "output_type": "stream",
          "name": "stdout",
          "text": [
            "   PassengerId  Survived  Pclass  \\\n",
            "0            1         0       3   \n",
            "2            3         1       3   \n",
            "3            4         1       1   \n",
            "4            5         0       3   \n",
            "5            6         0       3   \n",
            "\n",
            "                                           Name        Age  SibSp  Parch  \\\n",
            "0                       Braund, Mr. Owen Harris  22.000000      1      0   \n",
            "2                        Heikkinen, Miss. Laina  26.000000      0      0   \n",
            "3  Futrelle, Mrs. Jacques Heath (Lily May Peel)  35.000000      1      0   \n",
            "4                      Allen, Mr. William Henry  35.000000      0      0   \n",
            "5                              Moran, Mr. James  29.699118      0      0   \n",
            "\n",
            "             Ticket      Fare  FamilySize  Title  Sex_male  Embarked_Q  \\\n",
            "0         A/5 21171  0.014151         0.1     12      True       False   \n",
            "2  STON/O2. 3101282  0.015469         0.0      9     False       False   \n",
            "3            113803  0.103644         0.1     13     False       False   \n",
            "4            373450  0.015713         0.0     12      True       False   \n",
            "5            330877  0.016510         0.0     12      True        True   \n",
            "\n",
            "   Embarked_S  AgeGroup_Teenager  AgeGroup_Young Adult  AgeGroup_Adult  \\\n",
            "0        True              False                  True           False   \n",
            "2        True              False                  True           False   \n",
            "3        True              False                 False            True   \n",
            "4        True              False                 False            True   \n",
            "5       False              False                  True           False   \n",
            "\n",
            "   AgeGroup_Senior  \n",
            "0            False  \n",
            "2            False  \n",
            "3            False  \n",
            "4            False  \n",
            "5            False  \n"
          ]
        }
      ]
    },
    {
      "cell_type": "code",
      "source": [
        "print(titanic_data.columns)\n"
      ],
      "metadata": {
        "colab": {
          "base_uri": "https://localhost:8080/"
        },
        "id": "sqSAj0spvzq2",
        "outputId": "6888f1a6-8cf7-4edd-da1a-9c54917f898b"
      },
      "execution_count": 23,
      "outputs": [
        {
          "output_type": "stream",
          "name": "stdout",
          "text": [
            "Index(['PassengerId', 'Survived', 'Pclass', 'Name', 'Age', 'SibSp', 'Parch',\n",
            "       'Ticket', 'Fare', 'FamilySize', 'Title', 'Sex_male', 'Embarked_Q',\n",
            "       'Embarked_S', 'AgeGroup_Teenager', 'AgeGroup_Young Adult',\n",
            "       'AgeGroup_Adult', 'AgeGroup_Senior'],\n",
            "      dtype='object')\n"
          ]
        }
      ]
    },
    {
      "cell_type": "code",
      "source": [],
      "metadata": {
        "id": "XYEubzVIv4nQ"
      },
      "execution_count": 23,
      "outputs": []
    }
  ]
}