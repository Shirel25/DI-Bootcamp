{
  "nbformat": 4,
  "nbformat_minor": 0,
  "metadata": {
    "colab": {
      "provenance": []
    },
    "kernelspec": {
      "name": "python3",
      "display_name": "Python 3"
    },
    "language_info": {
      "name": "python"
    }
  },
  "cells": [
    {
      "cell_type": "code",
      "execution_count": 1,
      "metadata": {
        "id": "Y0L_AZkxN8_Z"
      },
      "outputs": [],
      "source": [
        "data = {\n",
        "    'Book Title': ['The Great Gatsby', 'To Kill a Mockingbird', '1984', 'Pride and Prejudice', 'The Catcher in the Rye'],\n",
        "    'Author': ['F. Scott Fitzgerald', 'Harper Lee', 'George Orwell', 'Jane Austen', 'J.D. Salinger'],\n",
        "    'Genre': ['Classic', 'Classic', 'Dystopian', 'Classic', 'Classic'],\n",
        "    'Price': [10.99, 8.99, 7.99, 11.99, 9.99],\n",
        "    'Copies Sold': [500, 600, 800, 300, 450]\n",
        "}"
      ]
    },
    {
      "cell_type": "code",
      "source": [
        "import pandas as pd\n",
        "\n",
        "df = pd.DataFrame(data)"
      ],
      "metadata": {
        "id": "zNgY0H4nOiBN"
      },
      "execution_count": 2,
      "outputs": []
    },
    {
      "cell_type": "code",
      "source": [
        "print(df)"
      ],
      "metadata": {
        "colab": {
          "base_uri": "https://localhost:8080/"
        },
        "id": "VyyOAPrCO2jO",
        "outputId": "ff3eb148-12d1-485a-a6d7-5df082230c05"
      },
      "execution_count": 3,
      "outputs": [
        {
          "output_type": "stream",
          "name": "stdout",
          "text": [
            "               Book Title               Author      Genre  Price  Copies Sold\n",
            "0        The Great Gatsby  F. Scott Fitzgerald    Classic  10.99          500\n",
            "1   To Kill a Mockingbird           Harper Lee    Classic   8.99          600\n",
            "2                    1984        George Orwell  Dystopian   7.99          800\n",
            "3     Pride and Prejudice          Jane Austen    Classic  11.99          300\n",
            "4  The Catcher in the Rye        J.D. Salinger    Classic   9.99          450\n"
          ]
        }
      ]
    },
    {
      "cell_type": "code",
      "source": [
        "df.to_excel('dataExcel.xlsx', sheet_name='Books Data')"
      ],
      "metadata": {
        "id": "xITQzPQNO5eh"
      },
      "execution_count": 7,
      "outputs": []
    },
    {
      "cell_type": "code",
      "source": [
        "df.to_json('dataJson.json', indent=4)"
      ],
      "metadata": {
        "id": "aXTzF9DdPN20"
      },
      "execution_count": 5,
      "outputs": []
    },
    {
      "cell_type": "code",
      "source": [
        "import os\n",
        "print(\"Files created:\", os.listdir())"
      ],
      "metadata": {
        "colab": {
          "base_uri": "https://localhost:8080/"
        },
        "id": "vks4Y33SPmh7",
        "outputId": "720adc77-6502-497e-ce2a-7696161f214c"
      },
      "execution_count": 6,
      "outputs": [
        {
          "output_type": "stream",
          "name": "stdout",
          "text": [
            "Files created: ['.config', 'dataJson.json', 'dataExcel.xlsx', 'sample_data']\n"
          ]
        }
      ]
    },
    {
      "cell_type": "code",
      "source": [],
      "metadata": {
        "id": "Oqvek6W7QUe0"
      },
      "execution_count": null,
      "outputs": []
    }
  ]
}